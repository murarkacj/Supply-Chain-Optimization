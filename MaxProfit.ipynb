{
 "cells": [
  {
   "cell_type": "markdown",
   "id": "4d262026",
   "metadata": {},
   "source": [
    "# Profit Maximization Project By Chaitanya Murarka\n",
    "### Trying to Maximize the Operation Cost"
   ]
  },
  {
   "cell_type": "code",
   "execution_count": 1,
   "id": "4fa19804",
   "metadata": {},
   "outputs": [],
   "source": [
    "import pandas as pd\n",
    "from pulp import *\n",
    "# num2words will tell our profits in words \n",
    "from num2words import num2words"
   ]
  },
  {
   "cell_type": "markdown",
   "id": "713718f5",
   "metadata": {},
   "source": [
    "#### Importing the datasets"
   ]
  },
  {
   "cell_type": "code",
   "execution_count": 2,
   "id": "7894ef1d",
   "metadata": {},
   "outputs": [],
   "source": [
    "demand = pd.read_csv(\"demand_forecasted.csv\")\n",
    "demand = demand.sort_values(\"Year\")\n",
    "periods = list(demand['Year']) #periods"
   ]
  },
  {
   "cell_type": "code",
   "execution_count": 3,
   "id": "1c81db7f",
   "metadata": {},
   "outputs": [
    {
     "data": {
      "text/html": [
       "<div>\n",
       "<style scoped>\n",
       "    .dataframe tbody tr th:only-of-type {\n",
       "        vertical-align: middle;\n",
       "    }\n",
       "\n",
       "    .dataframe tbody tr th {\n",
       "        vertical-align: top;\n",
       "    }\n",
       "\n",
       "    .dataframe thead th {\n",
       "        text-align: right;\n",
       "    }\n",
       "</style>\n",
       "<table border=\"1\" class=\"dataframe\">\n",
       "  <thead>\n",
       "    <tr style=\"text-align: right;\">\n",
       "      <th></th>\n",
       "      <th>Center</th>\n",
       "      <th>Region</th>\n",
       "      <th>Unnamed: 2</th>\n",
       "      <th>Costs</th>\n",
       "    </tr>\n",
       "  </thead>\n",
       "  <tbody>\n",
       "    <tr>\n",
       "      <th>0</th>\n",
       "      <td>Center A</td>\n",
       "      <td>Downtown Toronto</td>\n",
       "      <td>NaN</td>\n",
       "      <td>25.77</td>\n",
       "    </tr>\n",
       "    <tr>\n",
       "      <th>1</th>\n",
       "      <td>Center A</td>\n",
       "      <td>East York</td>\n",
       "      <td>NaN</td>\n",
       "      <td>2.24</td>\n",
       "    </tr>\n",
       "    <tr>\n",
       "      <th>2</th>\n",
       "      <td>Center A</td>\n",
       "      <td>Etobicoke</td>\n",
       "      <td>NaN</td>\n",
       "      <td>25.72</td>\n",
       "    </tr>\n",
       "    <tr>\n",
       "      <th>3</th>\n",
       "      <td>Center A</td>\n",
       "      <td>Mississauga East</td>\n",
       "      <td>NaN</td>\n",
       "      <td>28.65</td>\n",
       "    </tr>\n",
       "    <tr>\n",
       "      <th>4</th>\n",
       "      <td>Center A</td>\n",
       "      <td>North Toronto</td>\n",
       "      <td>NaN</td>\n",
       "      <td>11.64</td>\n",
       "    </tr>\n",
       "  </tbody>\n",
       "</table>\n",
       "</div>"
      ],
      "text/plain": [
       "     Center            Region  Unnamed: 2  Costs\n",
       "0  Center A  Downtown Toronto         NaN  25.77\n",
       "1  Center A         East York         NaN   2.24\n",
       "2  Center A         Etobicoke         NaN  25.72\n",
       "3  Center A  Mississauga East         NaN  28.65\n",
       "4  Center A     North Toronto         NaN  11.64"
      ]
     },
     "execution_count": 3,
     "metadata": {},
     "output_type": "execute_result"
    }
   ],
   "source": [
    "distances = pd.read_csv('distances.csv')\n",
    "distances['Costs']=distances['Distance']\n",
    "distances = distances.drop(['Distance'],axis=1)\n",
    "zones = list(distances['Region'].unique()) #zones\n",
    "distances.head()"
   ]
  },
  {
   "cell_type": "code",
   "execution_count": 4,
   "id": "88de3141",
   "metadata": {},
   "outputs": [],
   "source": [
    "centers = pd.read_csv('centers.csv')\n",
    "centers = centers.drop(\"Num MPs\",axis=1)\n",
    "depots = list(centers['Center']) #depots\n",
    "centers = centers.set_index('Center')\n",
    "#centers"
   ]
  },
  {
   "cell_type": "code",
   "execution_count": 5,
   "id": "d32d2c86",
   "metadata": {},
   "outputs": [],
   "source": [
    "production = pd.read_excel(\"production_cost.xlsx\")\n",
    "#production"
   ]
  },
  {
   "cell_type": "code",
   "execution_count": 6,
   "id": "f4ff27d1",
   "metadata": {},
   "outputs": [],
   "source": [
    "selling = pd.read_excel(\"selling_price.xlsx\")\n",
    "selling = selling.set_index(\"zones\")\n",
    "#selling"
   ]
  },
  {
   "cell_type": "markdown",
   "id": "a7ea2cc7",
   "metadata": {},
   "source": [
    "#### Data Preprocessing"
   ]
  },
  {
   "cell_type": "code",
   "execution_count": 7,
   "id": "413ed10c",
   "metadata": {},
   "outputs": [],
   "source": [
    "# Dictionaries about Depots\n",
    "depotcost_open = {}\n",
    "depotcost_opt = {}\n",
    "depotcapacity = {}\n",
    "for i in depots:\n",
    "    depotcost_open[i]=float(centers.loc[i][\"Opening Costs\"])\n",
    "    depotcost_opt[i] = float(centers.loc[i][\"Operating Costs\"])\n",
    "    depotcapacity[i] = int(centers.loc[i][\"Maximum capacity\"])\n",
    "    "
   ]
  },
  {
   "cell_type": "code",
   "execution_count": 8,
   "id": "82a98220",
   "metadata": {},
   "outputs": [],
   "source": [
    "# Dictionary about manufacting costs\n",
    "depotmanufac = {}\n",
    "for i in depots:\n",
    "    for j in zones:\n",
    "        depotmanufac[(i,j)] = float(production[(production[\"Center\"]==i)&(production[\"Zones\"]==j)][\"Manufacturing Cost\"])"
   ]
  },
  {
   "cell_type": "code",
   "execution_count": 9,
   "id": "c9877f82",
   "metadata": {},
   "outputs": [],
   "source": [
    "# Dictionary about selling price\n",
    "zonesell = {}\n",
    "for j in zones:\n",
    "    zonesell[j] = float(selling.loc[j][\"selling price\"])"
   ]
  },
  {
   "cell_type": "code",
   "execution_count": 10,
   "id": "7624f538",
   "metadata": {},
   "outputs": [],
   "source": [
    "# Dictionary about Depot to Zone Cost\n",
    "depotzonecost = {}\n",
    "for i in depots:\n",
    "    for j in zones:\n",
    "        depotzonecost[(i,j)] = float(distances[(distances[\"Center\"] == i)&(distances[\"Region\"] == j)][\"Costs\"])"
   ]
  },
  {
   "cell_type": "code",
   "execution_count": 11,
   "id": "32f8a5cc",
   "metadata": {},
   "outputs": [],
   "source": [
    "# Dictionary about demand in each zone\n",
    "zonedemand = {}\n",
    "for t in periods:\n",
    "    for j in zones:    \n",
    "        zonedemand[(j,t)] = int(demand[(demand[\"Year\"] == t)&(demand[\"Region\"] == j)]['Demand'])\n"
   ]
  },
  {
   "cell_type": "code",
   "execution_count": 12,
   "id": "ed07d883",
   "metadata": {},
   "outputs": [],
   "source": [
    "def selectyear(i):\n",
    "    demand_copy = demand[demand['Year']==i]\n",
    "    demand_copy = demand_copy.set_index('Region')\n",
    "    zonedemand22 = {}\n",
    "    for j in zones:    \n",
    "        zonedemand22[j] = demand_copy.loc[j][\"Demand\"]\n",
    "    return zonedemand22"
   ]
  },
  {
   "cell_type": "markdown",
   "id": "6ce8044d",
   "metadata": {},
   "source": [
    "## Optimizing"
   ]
  },
  {
   "cell_type": "markdown",
   "id": "8ebb7081",
   "metadata": {},
   "source": [
    "### Defining Optimization problem and decision variables"
   ]
  },
  {
   "cell_type": "code",
   "execution_count": 13,
   "id": "4c2c9590",
   "metadata": {},
   "outputs": [],
   "source": [
    "# Initialize Model and Decision Variable\n",
    "z = LpProblem(\"Minimum-Transportation-Cost\",LpMaximize)\n",
    "y = LpVariable.dict('y',(depots),cat='Binary')\n",
    "x = LpVariable.dict('x',(depots,zones),lowBound=0,cat='Continous')"
   ]
  },
  {
   "cell_type": "markdown",
   "id": "6c920bcc",
   "metadata": {},
   "source": [
    "### User Interface for Generalization"
   ]
  },
  {
   "cell_type": "code",
   "execution_count": 14,
   "id": "4a95d3fc",
   "metadata": {},
   "outputs": [],
   "source": [
    "userinput1 = int(input(\"Please Enter the Year to check for the optimal solution :\"))\n",
    "zonedemand22 = selectyear(userinput1)\n",
    "userinput2 = float(input(\"Plase Enter Maximum Production Capacity to Utilize\"))"
   ]
  },
  {
   "cell_type": "markdown",
   "id": "79e0b265",
   "metadata": {},
   "source": [
    "### Objective function"
   ]
  },
  {
   "cell_type": "code",
   "execution_count": 15,
   "id": "c54a1a61",
   "metadata": {},
   "outputs": [],
   "source": [
    "# Revenue Earned minus all possible expenses \n",
    "\n",
    "z +=  (lpSum(zonesell[j]*zonedemand22[j] for j in zones) -\n",
    "      lpSum([ depotcost_opt[i] for i in ['Center A', 'Center B', 'Center C', 'Center D']] ) -\n",
    "      lpSum([ (depotcost_open[i] + depotcost_opt[i]) * y[i] for i in ['Center E', 'Center F'] ]) -\n",
    "      lpSum([ depotzonecost[(i,j)] * x[(i,j)] / 10000 for i in depots for j in zones ] )-\n",
    "      lpSum(x[i,j] *depotmanufac[i,j] for i in depots for j in zones))\n"
   ]
  },
  {
   "cell_type": "markdown",
   "id": "cfb24658",
   "metadata": {},
   "source": [
    "### Constriants"
   ]
  },
  {
   "cell_type": "code",
   "execution_count": 16,
   "id": "7bb4f79f",
   "metadata": {},
   "outputs": [],
   "source": [
    "\n",
    "# Defining Constraints\n",
    "from numpy import require\n",
    "\n",
    "\n",
    "for j in zones:\n",
    "    z += lpSum( [x[(i,j)] for i in depots] ) == zonedemand22[j]\n",
    "\n",
    "# Constraint: depot capacities must be observed in all scenarios\n",
    "for i in depots:        \n",
    "    z += lpSum( [x[(i,j)] for j in zones] ) <= depotcapacity[i] * y[i]\n",
    "\n",
    "\n",
    "# Capacity Utilization\n",
    "#z += lpSum(zonedemand22[j] for j in zones) <= lpSum(depotcapacity[i] * y[i] for i in depots) * userinput2/100\n"
   ]
  },
  {
   "cell_type": "code",
   "execution_count": 17,
   "id": "e55c6447",
   "metadata": {},
   "outputs": [],
   "source": [
    "#lpSum(depotcapacity[i] * y[i].varValue for i in depots)"
   ]
  },
  {
   "cell_type": "markdown",
   "id": "12ab5e02",
   "metadata": {},
   "source": [
    "### Solving and checking the status of solution"
   ]
  },
  {
   "cell_type": "code",
   "execution_count": 18,
   "id": "7bf8ee9a",
   "metadata": {},
   "outputs": [
    {
     "name": "stdout",
     "output_type": "stream",
     "text": [
      "Solution is : Optimal\n"
     ]
    }
   ],
   "source": [
    "status = z.solve()\n",
    "print(\"Solution is :\",LpStatus[status])"
   ]
  },
  {
   "cell_type": "markdown",
   "id": "5966a7a3",
   "metadata": {},
   "source": [
    "### Printing the solution"
   ]
  },
  {
   "cell_type": "code",
   "execution_count": 19,
   "id": "efacf40c",
   "metadata": {},
   "outputs": [
    {
     "name": "stdout",
     "output_type": "stream",
     "text": [
      "The total cost is : 8691651.532429\n",
      "Words : eighty-six lakh, ninety-one thousand, six hundred and fifty-one point five three two four two nine\n"
     ]
    }
   ],
   "source": [
    "print(\"The total cost is :\",value(z.objective))\n",
    "print(\"Words :\",(num2words(value(z.objective),lang='en_IN')))\n"
   ]
  },
  {
   "cell_type": "markdown",
   "id": "5642789e",
   "metadata": {},
   "source": [
    "### Which Depot serves how much to which zone"
   ]
  },
  {
   "cell_type": "code",
   "execution_count": 20,
   "id": "cc200eb1",
   "metadata": {},
   "outputs": [
    {
     "name": "stdout",
     "output_type": "stream",
     "text": [
      "Center A is open\n",
      "\tServes zone East York 87165.0 units\n",
      "\tServes zone North York 512835.0 units\n",
      "Center B is open\n",
      "\tServes zone East York 81592.0 units\n",
      "\tServes zone Scarborough East 449380.0 units\n",
      "Center C is open\n",
      "\tServes zone Downtown Toronto 220428.0 units\n",
      "\tServes zone Etobicoke 379572.0 units\n",
      "Center D is open\n",
      "\tServes zone East York 108421.0 units\n",
      "\tServes zone Etobicoke 81836.0 units\n",
      "\tServes zone Mississauga East 409743.0 units\n",
      "Center E is open\n",
      "\tServes zone Downtown Toronto 179851.0 units\n",
      "\tServes zone North Toronto 420149.0 units\n"
     ]
    }
   ],
   "source": [
    "for i in depots:\n",
    "    if y[i].varValue >= 1.0:\n",
    "        print(str(i) + \" is open\")                            \n",
    "        for j in zones:\n",
    "            if x[(i,j)].varValue > 0.0:\n",
    "                print(\"\\tServes zone \" + str(j) , x[(i,j)].varValue ,\"units\")"
   ]
  },
  {
   "cell_type": "markdown",
   "id": "1844e8a6",
   "metadata": {},
   "source": [
    "### Production Capacity Utilization"
   ]
  },
  {
   "cell_type": "code",
   "execution_count": 21,
   "id": "fdc2b429",
   "metadata": {},
   "outputs": [
    {
     "name": "stdout",
     "output_type": "stream",
     "text": [
      "Production Capacity : 3000000.0\n",
      "Production Required : 2930972\n",
      "Capacity Utilized : 97.69906666666667 %\n"
     ]
    }
   ],
   "source": [
    "required = 0\n",
    "for j in zonedemand22:\n",
    "    required += zonedemand22[j]\n",
    "production_capacity = 0\n",
    "for i in depots:\n",
    "        production_capacity += depotcapacity[i]*y[i].varValue\n",
    "production_capacity_utilization = (required/production_capacity)*100\n",
    "print(\"Production Capacity :\",production_capacity)\n",
    "print(\"Production Required :\",required)\n",
    "print(\"Capacity Utilized :\",production_capacity_utilization,\"%\")\n"
   ]
  }
 ],
 "metadata": {
  "kernelspec": {
   "display_name": "Python 3.10.7 64-bit",
   "language": "python",
   "name": "python3"
  },
  "language_info": {
   "codemirror_mode": {
    "name": "ipython",
    "version": 3
   },
   "file_extension": ".py",
   "mimetype": "text/x-python",
   "name": "python",
   "nbconvert_exporter": "python",
   "pygments_lexer": "ipython3",
   "version": "3.10.7"
  },
  "vscode": {
   "interpreter": {
    "hash": "31671a60cee805c34c73116577b485118ff3a75c458d3004d49632c19702ac60"
   }
  }
 },
 "nbformat": 4,
 "nbformat_minor": 5
}
